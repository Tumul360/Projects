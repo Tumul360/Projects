{
 "cells": [
  {
   "cell_type": "markdown",
   "metadata": {},
   "source": [
    "# Gathering Legislation Corpus\n",
    "The aim of this notebook is to collect a corpus of Australian Legislation to use in Natural Language Processing (NLP). Robots.txt was checked for Legislation.gov.au to make sure scraping was allowed:\n",
    "\n",
    "User-agent: *\n",
    "Crawl-delay: 10\n",
    "Disallow: /Current/\n",
    "Disallow: /Search/\n",
    "Disallow: /Images/\n",
    "Disallow: /Scripts/\n",
    "Disallow: /Content/\n",
    "Disallow: /Account/\n",
    "Sitemap: https://www.legislation.gov.au/sitemap"
   ]
  },
  {
   "cell_type": "code",
   "execution_count": 72,
   "metadata": {},
   "outputs": [],
   "source": [
    "import requests \n",
    "from bs4 import BeautifulSoup\n",
    "import time\n",
    "import pandas as pd\n",
    "import numpy as np\n",
    "import regex as re\n",
    "\n",
    "# select a random sample without replacement\n",
    "from random import seed\n",
    "from random import sample\n",
    "from random import random\n",
    "# seed random number generator\n",
    "seed(1)\n",
    "\n",
    "from datetime import datetime, timedelta\n",
    "\n",
    "headers = {'User-Agent': 'Mozilla/5.0 (Macintosh; Intel Mac OS X 10_11_5) AppleWebKit/537.36 (KHTML, like Gecko) Chrome/50.0.2661.102 Safari/537.36'}"
   ]
  },
  {
   "cell_type": "markdown",
   "metadata": {},
   "source": [
    "## Collect Alphabetical Names of all Pages in Index\n",
    "The main page for Acts InForce contains an index. Each index name leads to a new page containing a list of acts"
   ]
  },
  {
   "cell_type": "code",
   "execution_count": null,
   "metadata": {},
   "outputs": [],
   "source": [
    "# Collect main page\n",
    "url=https://www.legislation.gov.au/Browse/ByTitle/Acts/InForce/0/0/Principal\n",
    "html_doc = requests.get(url, headers=headers).text #text is needed so that html_doc isn't just the response code\n",
    "#html_doc will contain html text such as headers, etc.\n",
    "soup = BeautifulSoup(html_doc, 'html.parser')\n",
    "\n",
    "# Make a list of urls that point to each alphabetical link in the main page\n",
    "pages=[]\n",
    "for page in soup.findAll('a', {'class': 'CategoryLetter'}):\n",
    "    page='https://www.legislation.gov.au/Browse/Results/ByTitle/Acts/InForce/'+str(page.text)+'/0/0/principal'\n",
    "    pages.append(page)"
   ]
  },
  {
   "cell_type": "markdown",
   "metadata": {},
   "source": [
    "## Get the Serial Numbers of Each Act"
   ]
  },
  {
   "cell_type": "code",
   "execution_count": 74,
   "metadata": {
    "collapsed": true
   },
   "outputs": [
    {
     "name": "stdout",
     "output_type": "stream",
     "text": [
      "Working on page https://www.legislation.gov.au/Browse/Results/ByTitle/Acts/InForce/Ab/0/0/principal\n",
      "Working on page https://www.legislation.gov.au/Browse/Results/ByTitle/Acts/InForce/Ac/0/0/principal\n",
      "Working on page https://www.legislation.gov.au/Browse/Results/ByTitle/Acts/InForce/Nu/0/0/principal\n",
      "Working on page https://www.legislation.gov.au/Browse/Results/ByTitle/Acts/InForce/Oc/0/0/principal\n"
     ]
    },
    {
     "name": "stdout",
     "output_type": "stream",
     "text": [
      "Working on page https://www.legislation.gov.au/Browse/Results/ByTitle/Acts/InForce/Of/0/0/principal\n",
      "Working on page https://www.legislation.gov.au/Browse/Results/ByTitle/Acts/InForce/Ol/0/0/principal\n",
      "Working on page https://www.legislation.gov.au/Browse/Results/ByTitle/Acts/InForce/Wo/0/0/principal\n"
     ]
    }
   ],
   "source": [
    "detail_links={} #blank dictionary to store the act title as a key and serial number as value\n",
    "sleep_time=1+random() #Delay timing to flooding site with requests\n",
    "\n",
    "for page in pages:\n",
    "    try:\n",
    "        print('Working on page '+str(page))\n",
    "        url=page\n",
    "        html_doc = requests.get(url, headers=headers).text\n",
    "        soup = BeautifulSoup(html_doc, 'html.parser')\n",
    "        \n",
    "        for link in soup.findAll('a', {'class': 'LegBookmark'}):\n",
    "            detail_links[link.text] = link.get('href').partition(\"/Details/\")[2]\n",
    "            time.sleep(sleep_time)\n",
    "    \n",
    "    except Exception as e: \n",
    "        print(e)\n",
    "        time.sleep(sleep_time)\n",
    "        broken.append(case_number)\n",
    "        print('something went wrong with page '+str(page)+' act '+str(link.text))  "
   ]
  },
  {
   "cell_type": "markdown",
   "metadata": {},
   "source": [
    "## Save Dictionary of Act Names and Serial Numbers\n",
    "These files should only need to be generated once. Subsequent analysis should load files instead of generating new files.\n",
    "Dates and times have been used in the filenames to avoid overwriting older data."
   ]
  },
  {
   "cell_type": "code",
   "execution_count": 78,
   "metadata": {},
   "outputs": [],
   "source": [
    "#Saved using Numpy\n",
    "np.save(datetime.now().strftime(\"%Y%m%d-%H-%M-%S_detail_links\"), detail_links)\n",
    "np.save(datetime.now().strftime(\"%Y%m%d-%H-%M-%S_pages\"), pages)"
   ]
  },
  {
   "cell_type": "code",
   "execution_count": 84,
   "metadata": {},
   "outputs": [
    {
     "data": {
      "text/html": [
       "<div>\n",
       "<style scoped>\n",
       "    .dataframe tbody tr th:only-of-type {\n",
       "        vertical-align: middle;\n",
       "    }\n",
       "\n",
       "    .dataframe tbody tr th {\n",
       "        vertical-align: top;\n",
       "    }\n",
       "\n",
       "    .dataframe thead th {\n",
       "        text-align: right;\n",
       "    }\n",
       "</style>\n",
       "<table border=\"1\" class=\"dataframe\">\n",
       "  <thead>\n",
       "    <tr style=\"text-align: right;\">\n",
       "      <th></th>\n",
       "      <th>0</th>\n",
       "    </tr>\n",
       "  </thead>\n",
       "  <tbody>\n",
       "    <tr>\n",
       "      <th>Aboriginal and Torres Strait Islander Act 2005</th>\n",
       "      <td>C2019C00083</td>\n",
       "    </tr>\n",
       "    <tr>\n",
       "      <th>Aboriginal and Torres Strait Islander Heritage Protection Act 1984</th>\n",
       "      <td>C2016C00937</td>\n",
       "    </tr>\n",
       "    <tr>\n",
       "      <th>Aboriginal and Torres Strait Islander Land and Sea Future Fund Act 2018</th>\n",
       "      <td>C2019C00329</td>\n",
       "    </tr>\n",
       "    <tr>\n",
       "      <th>Aboriginal Land Grant (Jervis Bay Territory) Act 1986</th>\n",
       "      <td>C2016C01003</td>\n",
       "    </tr>\n",
       "    <tr>\n",
       "      <th>Aboriginal Land (Lake Condah and Framlingham Forest) Act 1987</th>\n",
       "      <td>C2016C00958</td>\n",
       "    </tr>\n",
       "  </tbody>\n",
       "</table>\n",
       "</div>"
      ],
      "text/plain": [
       "                                                              0\n",
       "Aboriginal and Torres Strait Islander Act 2005      C2019C00083\n",
       "Aboriginal and Torres Strait Islander Heritage ...  C2016C00937\n",
       "Aboriginal and Torres Strait Islander Land and ...  C2019C00329\n",
       "Aboriginal Land Grant (Jervis Bay Territory) Ac...  C2016C01003\n",
       "Aboriginal Land (Lake Condah and Framlingham Fo...  C2016C00958"
      ]
     },
     "execution_count": 84,
     "metadata": {},
     "output_type": "execute_result"
    }
   ],
   "source": [
    "# Coverted to Dataframe and Saved as csv\n",
    "df_links=pd.DataFrame.from_dict(detail_links, orient='index')\n",
    "df_links.to_csv(datetime.now().strftime(\"%Y%m%d-%H-%M-%S_detail_links.csv\"), sep=',', index=True)\n",
    "df_links.head()"
   ]
  },
  {
   "cell_type": "code",
   "execution_count": 88,
   "metadata": {
    "scrolled": true
   },
   "outputs": [
    {
     "data": {
      "text/html": [
       "<div>\n",
       "<style scoped>\n",
       "    .dataframe tbody tr th:only-of-type {\n",
       "        vertical-align: middle;\n",
       "    }\n",
       "\n",
       "    .dataframe tbody tr th {\n",
       "        vertical-align: top;\n",
       "    }\n",
       "\n",
       "    .dataframe thead th {\n",
       "        text-align: right;\n",
       "    }\n",
       "</style>\n",
       "<table border=\"1\" class=\"dataframe\">\n",
       "  <thead>\n",
       "    <tr style=\"text-align: right;\">\n",
       "      <th></th>\n",
       "      <th>0</th>\n",
       "    </tr>\n",
       "  </thead>\n",
       "  <tbody>\n",
       "    <tr>\n",
       "      <th>0</th>\n",
       "      <td>https://www.legislation.gov.au/Browse/Results/...</td>\n",
       "    </tr>\n",
       "    <tr>\n",
       "      <th>1</th>\n",
       "      <td>https://www.legislation.gov.au/Browse/Results/...</td>\n",
       "    </tr>\n",
       "    <tr>\n",
       "      <th>2</th>\n",
       "      <td>https://www.legislation.gov.au/Browse/Results/...</td>\n",
       "    </tr>\n",
       "    <tr>\n",
       "      <th>3</th>\n",
       "      <td>https://www.legislation.gov.au/Browse/Results/...</td>\n",
       "    </tr>\n",
       "    <tr>\n",
       "      <th>4</th>\n",
       "      <td>https://www.legislation.gov.au/Browse/Results/...</td>\n",
       "    </tr>\n",
       "  </tbody>\n",
       "</table>\n",
       "</div>"
      ],
      "text/plain": [
       "                                                   0\n",
       "0  https://www.legislation.gov.au/Browse/Results/...\n",
       "1  https://www.legislation.gov.au/Browse/Results/...\n",
       "2  https://www.legislation.gov.au/Browse/Results/...\n",
       "3  https://www.legislation.gov.au/Browse/Results/...\n",
       "4  https://www.legislation.gov.au/Browse/Results/..."
      ]
     },
     "execution_count": 88,
     "metadata": {},
     "output_type": "execute_result"
    }
   ],
   "source": [
    "df_pages=pd.DataFrame(pages)\n",
    "df_pages.to_csv(datetime.now().strftime(\"%Y%m%d-%H-%M-%S_pages.csv\"), sep=',', index=False)\n",
    "df_pages.head()"
   ]
  },
  {
   "cell_type": "markdown",
   "metadata": {},
   "source": [
    "## Collecting the Text of Each Act\n",
    "Finally we can gather all the text in an act."
   ]
  },
  {
   "cell_type": "code",
   "execution_count": 271,
   "metadata": {
    "collapsed": true
   },
   "outputs": [
    {
     "name": "stdout",
     "output_type": "stream",
     "text": [
      "Working on page   Aboriginal Land Rights and Other Legislation Amendment Act 2013   C2013A00093\n",
      "Working on page   AIDC Sale Act 1997   C2004A05165\n",
      "Working on page   Aircraft Noise Levy Act 1995   C2012C00908\n",
      "Working on page   Airports (On-Airport Activities Administration) Validation Act 2010   C2010A00080\n",
      "Working on page   Airspace (Consequentials and Other Measures) Act 2007   C2007A00039\n",
      "Working on page   Antarctic Treaty Act 1960   C2008C00398\n",
      "Working on page   Anti-Money Laundering and Counter-Terrorism Financing (Transitional Provisions and Consequential Amendments) Act 2006   C2007C00287\n",
      "Working on page   Ashmore and Cartier Islands Acceptance Act 1933   C2008C00341\n",
      "Working on page   Asian Development Bank (Additional Subscription) Act 2009   C2009A00109\n",
      "Working on page   Australia Council (Consequential and Transitional Provisions) Act 2013   C2013A00072\n",
      "Working on page   Family Law Amendment (Validation of Certain Orders and Other Measures) Act 2012   C2013C00166\n",
      "Working on page   Family Law Amendment (Validation of Certain Parenting Orders and Other Measures) Act 2010   C2013C00161\n"
     ]
    },
    {
     "name": "stdout",
     "output_type": "stream",
     "text": [
      "Working on page   Family Law (Divorce Fees Validation) Act 2007   C2007A00023\n",
      "Working on page   Family Trust Distribution Tax (Secondary Liability) Act 1998   C2011C00492\n",
      "Working on page   Federal Circuit Court of Australia Legislation Amendment Act 2012   C2013C00139\n",
      "Working on page   New Business Tax System (Former Subsidiary Tax Imposition) Act 1999   C2013C00447\n",
      "Working on page   New Business Tax System (Franking Deficit Tax) Act 2002   C2004C01224\n"
     ]
    },
    {
     "name": "stdout",
     "output_type": "stream",
     "text": [
      "Working on page   New Business Tax System (Over-franking Tax) Act 2002   C2004A00981\n",
      "Working on page   New Business Tax System (Untainting Tax) Act 2006   C2006A00081\n",
      "Working on page   New Business Tax System (Venture Capital Deficit Tax) Act 2003   C2013C00448\n",

      "Working on page   Trans-Tasman Proceedings Act 2010   C2013C00646\n"
     ]
    },
    {
     "name": "stdout",
     "output_type": "stream",
     "text": [
      "Working on page   Wool International Privatisation Act 1999   C2013C00624\n",
      "Working on page   Work Health and Safety (Transitional and Consequential Provisions) Act 2011   C2011A00146\n"
     ]
    }
   ],
   "source": [
    "acts={} #Create a blank dictionary to hold the act titles as keys and act text as values\n",
    "\n",
    "for act_title, serial in detail_links.items():\n",
    "    \n",
    "    try:\n",
    "        print('Working on page   '+str(act_title)+'   '+str(serial))\n",
    "        \n",
    "        url='https://www.legislation.gov.au/Details/'+str(serial)\n",
    "        html_doc = requests.get(url, headers=headers).text #text is needed so that html_doc isn't just the response code\n",
    "        #html_doc will contain html text such as headers, etc.\n",
    "        soup = BeautifulSoup(html_doc, 'html.parser')\n",
    "        \n",
    "        text_of_act=''\n",
    "        # for loop needed to capture all fragments of text that may exist in multiple instances of 'lang': 'EN-AU'\n",
    "        for fragment in soup.findAll('div', {'lang': 'EN-AU'}):\n",
    "            text_of_act += ' ' + fragment.text\n",
    "        acts[act_title]= text_of_act\n",
    "        time.sleep(sleep_time)\n",
    "            \n",
    "    except Exception as e: \n",
    "        print(e)\n",
    "        time.sleep(sleep_time)\n",
    "        print('something went wrong with page '+str(page)+' act '+str(link.text))\n",
    "        \n",
    "df_acts=pd.DataFrame.from_dict(acts, orient='index')\n",
    "df_acts.to_csv(datetime.now().strftime(\"acts/%Y%m%d-%H-%M-%S_acts.csv\"), sep=',', index=True)"
   ]
  },
  {
   "cell_type": "markdown",
   "metadata": {},
   "source": [
    "## Check for Blank Acts"
   ]
  },
  {
   "cell_type": "code",
   "execution_count": 273,
   "metadata": {},
   "outputs": [
    {
     "data": {
      "text/plain": [
       "(3, (1119, 1))"
      ]
     },
     "execution_count": 273,
     "metadata": {},
     "output_type": "execute_result"
    }
   ],
   "source": [
    "acts_blank={}\n",
    "for title in df_acts.index:\n",
    "    if df_acts.loc[title,0] =='':\n",
    "        acts_blank[title]=detail_links[title]\n",
    "        \n",
    "len(acts_blank), df_acts_unblank.shape"
   ]
  },
  {
   "cell_type": "code",
   "execution_count": 274,
   "metadata": {},
   "outputs": [
    {
     "data": {
      "text/plain": [
       "{'Australian Heritage Council (Consequential and Transitional Provisions) Act 2003': 'C2004A01170',\n",
       " 'Defence Legislation Amendment (Enhancement of the Reserves and Modernisation) Act 2001': 'C2004C01249',\n",
       " 'Financial Sector Reform (Amendments and Transitional Provisions) Act (No. 1) 1999': 'C2004C01110'}"
      ]
     },
     "execution_count": 274,
     "metadata": {},
     "output_type": "execute_result"
    }
   ],
   "source": [
    "acts_blank"
   ]
  },
  {
   "cell_type": "markdown",
   "metadata": {},
   "source": [
    "The missing acts will have to be manually entered or otherwise ignored."
   ]
  }
 ],
 "metadata": {
  "kernelspec": {
   "display_name": "Python 3",
   "language": "python",
   "name": "python3"
  },
  "language_info": {
   "codemirror_mode": {
    "name": "ipython",
    "version": 3
   },
   "file_extension": ".py",
   "mimetype": "text/x-python",
   "name": "python",
   "nbconvert_exporter": "python",
   "pygments_lexer": "ipython3",
   "version": "3.7.6"
  }
 },
 "nbformat": 4,
 "nbformat_minor": 4
}
