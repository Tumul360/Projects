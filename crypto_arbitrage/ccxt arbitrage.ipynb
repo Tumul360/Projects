{
 "cells": [
  {
   "cell_type": "markdown",
   "metadata": {},
   "source": [
    "# Finding Arbitrage Opportunities in Cryptocurrencies\n",
    "\n",
    "This notebook is an attempt to automate the process of finding arbitrage opportunities on various cryptocurrency exchanges for a number of currency pairs. This notebook uses the great work done here:\n",
    "<https://github.com/ccxt/ccxt>"
   ]
  },
  {
   "cell_type": "markdown",
   "metadata": {},
   "source": [
    "## NOTE:\n",
    "This is an excercise in learning how to use python and ccxt. This notebook is **NOT** intended to be used for currecy trading."
   ]
  },
  {
   "cell_type": "code",
   "execution_count": 1,
   "metadata": {},
   "outputs": [],
   "source": [
    "import ccxt\n",
    "import numpy as np"
   ]
  },
  {
   "cell_type": "markdown",
   "metadata": {},
   "source": [
    "## Extract  exchanges\n",
    "ccxt has been written to query multiple exchanges. The list of exchanges are found in ccxt.exchange. Dead exchanges are prefixed with \"_\" symbol before their names."
   ]
  },
  {
   "cell_type": "code",
   "execution_count": 2,
   "metadata": {
    "scrolled": true
   },
   "outputs": [],
   "source": [
    "#get all ids from ccxt.exchange\n",
    "ids = ccxt.exchanges\n",
    "#remove ids with '_' at the start\n",
    "ids=[id for id in ids if not '_' in id]\n",
    "exchanges = {}\n",
    "for id in ids:  # load all markets from all exchange exchanges\n",
    "    exchange = getattr(ccxt, id)() # instantiate the exchange by id\n",
    "    exchanges[id] = exchange # save it in a dictionary under its id for future use"
   ]
  },
  {
   "cell_type": "markdown",
   "metadata": {},
   "source": [
    "## Find currency pairs in each exchange\n",
    "'fetch_tickers' is used by ccxt to collect information about currency pairs from each exchange. However, 'fetch_tickers' doesn't work with all exchanges. The code below finds and stores only those exchanges for which 'fetch_tickers' works."
   ]
  },
  {
   "cell_type": "code",
   "execution_count": 4,
   "metadata": {
    "scrolled": true
   },
   "outputs": [
    {
     "data": {
      "text/plain": [
       "['acx', 'aofex', 'bequant', 'bibox', 'bigone']"
      ]
     },
     "execution_count": 4,
     "metadata": {},
     "output_type": "execute_result"
    }
   ],
   "source": [
    "tickerS_ids=[] #initialise the list that contains all ids that are compatible with the 'fetch_tickers' command\n",
    "nontickerS_ids=[] #initialise the list that contains all ids that are NOT compatible with the 'fetch_tickers' command\n",
    "all_tickerS={} #initialise the dict that contains all tickers fetched by the 'fetch_tickers' command\n",
    "for id in ids:\n",
    "    try:\n",
    "        tickers=(eval('ccxt.%s().fetch_tickers()' %id))\n",
    "        tickerS_ids.append(id) #add the id that worked to 'tickerS_ids\n",
    "        tickers={id:tickers} #put a key of the name \"id\" around the dict called tickers\n",
    "        all_tickerS.update(tickers) #append the newly created dictionry to all_tickerS\n",
    "    except: \n",
    "        nontickerS_ids.append(id)\n",
    "        #print(id,'not compatible with tickers')\n",
    "tickerS_ids[:5]"
   ]
  },
  {
   "cell_type": "markdown",
   "metadata": {},
   "source": [
    "The tickers that worked are stored in a file so that the code can be run from here in future if needed. Date and time are used so that there is no chance of overwriting any previous version of the files."
   ]
  },
  {
   "cell_type": "code",
   "execution_count": 5,
   "metadata": {},
   "outputs": [],
   "source": [
    "from datetime import datetime, timedelta\n",
    "outF=open(datetime.now().strftime(\"%Y%m%d-%H-%M-%S_tickerS_ids.txt\"),'w')\n",
    "for line in tickerS_ids:\n",
    "    outF.write(line)\n",
    "    outF.write(\"\\n\")\n",
    "outF.close()\n",
    "outF = outF=open(datetime.now().strftime(\"%Y%m%d-%H-%M-%S_nontickerS_ids.txt\"),'w')\n",
    "for line in nontickerS_ids:\n",
    "    outF.write(line)\n",
    "    outF.write(\"\\n\")\n",
    "outF.close()"
   ]
  },
  {
   "cell_type": "markdown",
   "metadata": {},
   "source": [
    "## Create a list of lists with of currency pairs, exchange, ask and bid price\n",
    "tickerS_ids is a dictionary with exchanges as keys and information about the exchange as the value. To find arbitrage, this code needs to:\n",
    "1. find currency pairs which exist on two or more exchanges\n",
    "2. have a bid and ask price\n",
    "3. compare the bid and ask prices to check for arbitrage\n",
    "\n",
    "So, a new list called 'bysymb' organises tickerS_ids by currency pair symbols."
   ]
  },
  {
   "cell_type": "code",
   "execution_count": 6,
   "metadata": {},
   "outputs": [
    {
     "data": {
      "text/plain": [
       "[['BTC/AUD', 'acx', 13250.0, 10100.0],\n",
       " ['ETH/AUD', 'acx', 294.0, 200.01],\n",
       " ['ETC/AUD', 'acx', 18.88, 1.0],\n",
       " ['BCH/AUD', 'acx', 450.0, 0.01],\n",
       " ['LTC/AUD', 'acx', 139.0, 1.0]]"
      ]
     },
     "execution_count": 6,
     "metadata": {},
     "output_type": "execute_result"
    }
   ],
   "source": [
    "#make a list of all symbols, exchanges, asks and bid prices. Manipulating a dictionary was too hard.\n",
    "bysymb=[]\n",
    "for ex in list(all_tickerS.keys()): #first level of keys is exchanges\n",
    "    for s in list(all_tickerS[ex].keys()): #next level of keys is symbols\n",
    "        ask=all_tickerS[ex][s]['ask']\n",
    "        bid=all_tickerS[ex][s]['bid']\n",
    "        bysymb.append([s,ex,ask,bid]) \n",
    "bysymb[:5]"
   ]
  },
  {
   "cell_type": "markdown",
   "metadata": {},
   "source": [
    "## Find and keep only those currency pairs which exist on more than one exchange\n",
    "'artibrableSymbols' are those pairs that exist in two or more exchanges. 'indeces' are used to track those pairs."
   ]
  },
  {
   "cell_type": "code",
   "execution_count": 7,
   "metadata": {},
   "outputs": [],
   "source": [
    "#process the list to find all symbols, unique symbols, and arbitrable symbols\n",
    "bysymb_array=np.array(bysymb) # make the list an array\n",
    "allSymbols=list(bysymb_array[:,0]) #get the first column [:0] of the array which is all the symbols\n",
    "uniqueSymbols=set(allSymbols) #get rid of duplicate symbols\n",
    "arbitrableSymbols = sorted([symbol for symbol in uniqueSymbols if allSymbols.count(symbol) > 1]) #make arbitrableSymbols = symbol\n",
    "#where symbol is allsymbol.count(symbol)>1 in uniquesymbols (in other words, the currency symbol must appear in more than one exchange)\n",
    "\n",
    "# find the row numbers (indeces) corresponding to each arbitrablesymbol for further processing\n",
    "indeces={} #initialise indeces as a dictionary\n",
    "for s in arbitrableSymbols: #for each element of arbitrablesymbols...\n",
    "    index=[] #initialise index as a list\n",
    "    index=[i for i, x in enumerate(allSymbols) if x == s] #index = i if x in allsymbols is equal to s (the symbol in arbitrableSymbols)\n",
    "    indeces.update({s:index}) #save the indeces of each symbol (s) in a dictonary."
   ]
  },
  {
   "cell_type": "markdown",
   "metadata": {},
   "source": [
    "## Calculate arbitrage opportunities\n",
    "Finally, the bid prices for all exchanges that trade each currency pair are divided by the ask prices and the result checked to find any instances where the bid price is greater than the ask price (i.e. bid/ask > 1 or 1.1 to be safe). Instructions for each arbitrage opportunity found are captured in a list called 'tally'. "
   ]
  },
  {
   "cell_type": "code",
   "execution_count": 8,
   "metadata": {},
   "outputs": [],
   "source": [
    "#make a list \"check\" of all [s,ex,ask,bid] if not NONE and more than 0\n",
    "tally=[]\n",
    "arb_ex=[]\n",
    "for s in list(indeces.keys()): #for each symbol s in indeces...\n",
    "    ask=[]\n",
    "    bid=[]\n",
    "    asks=[]\n",
    "    bids=[]\n",
    "    index=[]\n",
    "    check=[]\n",
    "    for i in indeces[s]: #for each index in the list of indeces\n",
    "        if bysymb_array[i,2] != None and bysymb_array[i,3] != None and bysymb_array[i,2] >0 and bysymb_array[i,3]>0:\n",
    "            ask.append(bysymb_array[i,2]) #get the ith row and find the 2nd and 3rd elements (ask and bid prices)\n",
    "            bid.append(bysymb_array[i,3])\n",
    "            check.append(bysymb_array[i,:]) #keep this for checking the raw prices in bysymb_array\n",
    "        else: ''\n",
    "        #make a row matrix of asks and column matrix of bids for symbol and ex. Multiply bids with 1/asks\n",
    "        asks=np.matrix(ask)               #convert asks and bids to matrices and transpose bids \n",
    "        bids=np.transpose(np.matrix(bid)) \n",
    "        mat=bids.dot(1/asks) #cross product of bids with 1/asks.\n",
    "        #If asks < bids, abitrage may exist if bid/ask >1. To be safe, a score of 1.1 is used\n",
    "        b = np.matrix(np.where(mat>1.1)) ### THIS FINDS THE ARBITRAGES\n",
    "        n=0\n",
    "        for n in range(0, np.shape(b)[1]):\n",
    "            ask_ex=check[b[1,n]]\n",
    "            bid_ex=check[b[0,n]]\n",
    "            arb_ex.append(ask_ex[1])\n",
    "            arb_ex.append(bid_ex[1])\n",
    "            tally.append([s,'buy from', ask_ex[1], ask_ex[2], 'sell to', bid_ex[1],bid_ex[3],bid_ex[3]/ask_ex[2]])"
   ]
  },
  {
   "cell_type": "code",
   "execution_count": 9,
   "metadata": {},
   "outputs": [
    {
     "data": {
      "text/plain": [
       "[['1ST/BTC',\n",
       "  'buy from',\n",
       "  'hitbtc',\n",
       "  1.01252e-05,\n",
       "  'sell to',\n",
       "  'bittrex',\n",
       "  1.127e-05,\n",
       "  1.113064433295145],\n",
       " ['AAC/BTC',\n",
       "  'buy from',\n",
       "  'okex',\n",
       "  2.05e-07,\n",
       "  'sell to',\n",
       "  'huobipro',\n",
       "  9.261e-06,\n",
       "  45.175609756097565],\n",
       " ['AAC/BTC',\n",
       "  'buy from',\n",
       "  'okex',\n",
       "  2.05e-07,\n",
       "  'sell to',\n",
       "  'huobiru',\n",
       "  9.261e-06,\n",
       "  45.175609756097565],\n",
       " ['AAC/ETH',\n",
       "  'buy from',\n",
       "  'okex',\n",
       "  8.34e-06,\n",
       "  'sell to',\n",
       "  'huobipro',\n",
       "  0.00037223,\n",
       "  44.63189448441247],\n",
       " ['ABBC/BTC',\n",
       "  'buy from',\n",
       "  'livecoin',\n",
       "  1.77e-06,\n",
       "  'sell to',\n",
       "  'bitmart',\n",
       "  1.33e-05,\n",
       "  7.5141242937853105]]"
      ]
     },
     "execution_count": 9,
     "metadata": {},
     "output_type": "execute_result"
    }
   ],
   "source": [
    "tally[:5]"
   ]
  },
  {
   "cell_type": "code",
   "execution_count": null,
   "metadata": {},
   "outputs": [],
   "source": []
  }
 ],
 "metadata": {
  "kernelspec": {
   "display_name": "Python 3",
   "language": "python",
   "name": "python3"
  },
  "language_info": {
   "codemirror_mode": {
    "name": "ipython",
    "version": 3
   },
   "file_extension": ".py",
   "mimetype": "text/x-python",
   "name": "python",
   "nbconvert_exporter": "python",
   "pygments_lexer": "ipython3",
   "version": "3.7.6"
  }
 },
 "nbformat": 4,
 "nbformat_minor": 2
}
